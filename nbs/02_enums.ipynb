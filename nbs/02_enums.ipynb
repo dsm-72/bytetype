{
 "cells": [
  {
   "attachments": {},
   "cell_type": "markdown",
   "metadata": {},
   "source": [
    "# enums\n",
    "\n",
    "> byte enums"
   ]
  },
  {
   "cell_type": "code",
   "execution_count": null,
   "metadata": {},
   "outputs": [],
   "source": [
    "#| default_exp enums"
   ]
  },
  {
   "cell_type": "code",
   "execution_count": null,
   "metadata": {},
   "outputs": [],
   "source": [
    "#| hide\n",
    "from nbdev.showdoc import *"
   ]
  },
  {
   "cell_type": "markdown",
   "metadata": {},
   "source": [
    "## Imports"
   ]
  },
  {
   "cell_type": "code",
   "execution_count": null,
   "metadata": {},
   "outputs": [],
   "source": [
    "#| export\n",
    "import os, math\n",
    "from typing import Union, List, Optional"
   ]
  },
  {
   "cell_type": "code",
   "execution_count": null,
   "metadata": {},
   "outputs": [],
   "source": [
    "#| export\n",
    "from litum import LitIntEnum, LitStrEnum, set_dtype, set_fallback"
   ]
  },
  {
   "cell_type": "markdown",
   "metadata": {},
   "source": [
    "#### Constants"
   ]
  },
  {
   "cell_type": "code",
   "execution_count": null,
   "metadata": {},
   "outputs": [],
   "source": [
    "#| export\n",
    "from bytetype.units import (\n",
    "    BYTE, KILOBYTE, MEGABYTE, GIGABYTE, TERABYTE,\n",
    "    PETABYTE, EXABYTE, ZETTABYTE, YOTTABYTE\n",
    ")"
   ]
  },
  {
   "cell_type": "markdown",
   "metadata": {},
   "source": [
    "#### Utils"
   ]
  },
  {
   "cell_type": "code",
   "execution_count": null,
   "metadata": {},
   "outputs": [],
   "source": [
    "#| export\n",
    "from bytetype.utils import (\n",
    "    bytes_idx, bytes_to_size\n",
    ")"
   ]
  },
  {
   "cell_type": "markdown",
   "metadata": {},
   "source": [
    "## Enums"
   ]
  },
  {
   "cell_type": "markdown",
   "metadata": {},
   "source": [
    "### ByteSize"
   ]
  },
  {
   "cell_type": "code",
   "execution_count": null,
   "metadata": {},
   "outputs": [],
   "source": [
    "#| export\n",
    "@set_dtype(int)\n",
    "@set_fallback('KB')\n",
    "class ByteSize(LitIntEnum):\n",
    "    \"\"\"An enumeration of byte size.\n",
    "    \n",
    "    This class defines an int enumeration representing various byte size.    \n",
    "    \"\"\"\n",
    "    B  = BYTE\n",
    "    KB = KILOBYTE\n",
    "    MB = MEGABYTE\n",
    "    GB = GIGABYTE\n",
    "    TB = TERABYTE\n",
    "    PB = PETABYTE\n",
    "    EB = EXABYTE\n",
    "    ZB = ZETTABYTE\n",
    "    YB = YOTTABYTE"
   ]
  },
  {
   "cell_type": "markdown",
   "metadata": {},
   "source": [
    "### ByteUnit"
   ]
  },
  {
   "cell_type": "code",
   "execution_count": null,
   "metadata": {},
   "outputs": [],
   "source": [
    "#| export\n",
    "@set_dtype(str)\n",
    "@set_fallback('B')\n",
    "class BytesUnit(LitStrEnum):\n",
    "    \"\"\"An enumeration of byte units.\n",
    "    \n",
    "    This class defines a string enumeration representing various byte units.\n",
    "    It provides methods for calculating size and determining appropriate unit from a byte count.\n",
    "    \"\"\"\n",
    "    B = 'B'\n",
    "    KB = 'KB'\n",
    "    MB = 'MB'\n",
    "    GB = 'GB'\n",
    "    TB = 'TB'\n",
    "    PB = 'PB'\n",
    "    EB = 'EB'\n",
    "    ZB = 'ZB'\n",
    "    YB = 'YB'\n",
    "\n",
    "    @staticmethod\n",
    "    def calc_idx(nbytes: float) -> int:\n",
    "        \"\"\"Calculate the index of the byte unit for a byte count.\n",
    "        \n",
    "        Parameters\n",
    "        ----------\n",
    "        nbytes : float\n",
    "            The byte count.\n",
    "\n",
    "        Returns\n",
    "        -------\n",
    "        int\n",
    "            The index of the byte unit.\n",
    "        \"\"\"\n",
    "        return bytes_idx(nbytes)\n",
    "    \n",
    "    @staticmethod\n",
    "    def calc_size(nbytes: float, decimals: Optional[int] = 2) -> float:\n",
    "        \"\"\"Calculate the size in appropriate byte unit for a byte count.\n",
    "        \n",
    "        Parameters\n",
    "        ----------\n",
    "        nbytes : float\n",
    "            The byte count.\n",
    "        decimals : int, optional\n",
    "            The number of decimal places to round to (default is 2).\n",
    "\n",
    "        Returns\n",
    "        -------\n",
    "        float\n",
    "            The size in the appropriate byte unit.\n",
    "        \"\"\"\n",
    "        return bytes_to_size(nbytes, decimals)\n",
    "\n",
    "    @classmethod\n",
    "    def unit(cls, nbytes: float) -> str:\n",
    "        \"\"\"Determine the appropriate byte unit for a byte count.\n",
    "        \n",
    "        Parameters\n",
    "        ----------\n",
    "        nbytes : float\n",
    "            The byte count.\n",
    "\n",
    "        Returns\n",
    "        -------\n",
    "        str\n",
    "            The appropriate byte unit.\n",
    "        \"\"\"\n",
    "        idx = cls.calc_idx(nbytes)\n",
    "        key = cls.keys()[idx]    \n",
    "        return key\n",
    "    \n",
    "    @classmethod\n",
    "    def keys(cls) -> List[str]:\n",
    "        \"\"\"Get the keys of the enumeration.\n",
    "\n",
    "        Returns\n",
    "        -------\n",
    "        List[str]\n",
    "            The keys of the enumeration.\n",
    "        \"\"\"\n",
    "        return list(cls._member_map_.keys())\n",
    "    \n",
    "    @classmethod\n",
    "    def from_bytes(cls, nbytes: float) -> 'BytesUnit':\n",
    "        \"\"\"Create a BytesUnit instance from a byte count.\n",
    "        \n",
    "        Parameters\n",
    "        ----------\n",
    "        nbytes : float\n",
    "            The byte count.\n",
    "\n",
    "        Returns\n",
    "        -------\n",
    "        BytesUnit\n",
    "            The BytesUnit instance representing the appropriate byte unit.\n",
    "        \"\"\"\n",
    "        unit = cls.unit(nbytes)\n",
    "        return cls(unit)"
   ]
  },
  {
   "cell_type": "code",
   "execution_count": null,
   "metadata": {},
   "outputs": [],
   "source": [
    "#| hide\n",
    "import nbdev; nbdev.nbdev_export()"
   ]
  }
 ],
 "metadata": {
  "kernelspec": {
   "display_name": "python3",
   "language": "python",
   "name": "python3"
  }
 },
 "nbformat": 4,
 "nbformat_minor": 4
}
