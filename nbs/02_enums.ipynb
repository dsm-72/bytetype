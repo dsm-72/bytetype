{
 "cells": [
  {
   "attachments": {},
   "cell_type": "markdown",
   "metadata": {},
   "source": [
    "# enums\n",
    "\n",
    "> byte enums"
   ]
  },
  {
   "cell_type": "code",
   "execution_count": null,
   "metadata": {},
   "outputs": [],
   "source": [
    "#| default_exp enums"
   ]
  },
  {
   "cell_type": "code",
   "execution_count": null,
   "metadata": {},
   "outputs": [],
   "source": [
    "#| hide\n",
    "%load_ext autoreload\n",
    "%autoreload 2"
   ]
  },
  {
   "cell_type": "code",
   "execution_count": null,
   "metadata": {},
   "outputs": [],
   "source": [
    "#| hide\n",
    "from nbdev.showdoc import *"
   ]
  },
  {
   "cell_type": "markdown",
   "metadata": {},
   "source": [
    "## Imports"
   ]
  },
  {
   "cell_type": "code",
   "execution_count": null,
   "metadata": {},
   "outputs": [],
   "source": [
    "#| export\n",
    "from enum import auto, StrEnum\n",
    "from typing import Optional"
   ]
  },
  {
   "cell_type": "markdown",
   "metadata": {},
   "source": [
    "#### Constants"
   ]
  },
  {
   "cell_type": "code",
   "execution_count": null,
   "metadata": {},
   "outputs": [],
   "source": [
    "#| export\n",
    "from pstr.nlit.byte import (B, KB, MB, GB, TB, PB, EB, ZB, YB, )\n",
    "from pstr.nchr.core import SPACE"
   ]
  },
  {
   "cell_type": "code",
   "execution_count": null,
   "metadata": {},
   "outputs": [],
   "source": [
    "#| export\n",
    "from bytetype.units import (KILO)\n",
    "from bytetype.utils import (\n",
    "    getidx, getexp, getsuf, getnum, format\n",
    ")"
   ]
  },
  {
   "cell_type": "markdown",
   "metadata": {},
   "source": [
    "## ByteUnit"
   ]
  },
  {
   "cell_type": "code",
   "execution_count": null,
   "metadata": {},
   "outputs": [],
   "source": [
    "#| export\n",
    "class ByteUnit(StrEnum):\n",
    "    B  = auto(); KB = auto(); MB = auto(); GB = auto(); TB = auto(); \n",
    "    PB = auto(); EB = auto(); ZB = auto(); YB = auto()\n",
    "\n",
    "    @classmethod\n",
    "    def units(cls): return [u.name for u in cls]\n",
    "\n",
    "    @classmethod\n",
    "    def getidx(cls, size: int = 1, base: int = KILO) -> int:\n",
    "        return getidx(size, base, cls.units())\n",
    "    \n",
    "    @classmethod\n",
    "    def getexp(cls, size: int = 1, base: int = KILO) -> int:\n",
    "        return getexp(size, base, cls.units())\n",
    "    \n",
    "    @classmethod\n",
    "    def getsuf(cls, size: int = 1, base: int = KILO) -> int:\n",
    "        return getsuf(size, base, cls.units())\n",
    "    \n",
    "    @classmethod\n",
    "    def getnum(cls, size: int = 1, base: int = KILO, precision: Optional[int] = 1) -> int:\n",
    "        return getnum(size, base, precision, cls.units())\n",
    "\n",
    "    @classmethod\n",
    "    def format(cls, size: int = 1, base: int = KILO, sep: Optional[str] = SPACE, precision: Optional[int] = 1):\n",
    "        return format(size, base, sep, precision, cls.units(), )"
   ]
  },
  {
   "cell_type": "code",
   "execution_count": null,
   "metadata": {},
   "outputs": [
    {
     "data": {
      "text/plain": [
       "'20.99990 GB'"
      ]
     },
     "execution_count": null,
     "metadata": {},
     "output_type": "execute_result"
    }
   ],
   "source": [
    "ByteUnit.format(20999900000, precision=5)"
   ]
  },
  {
   "cell_type": "code",
   "execution_count": null,
   "metadata": {},
   "outputs": [],
   "source": [
    "#| hide\n",
    "import nbdev; nbdev.nbdev_export()"
   ]
  }
 ],
 "metadata": {
  "kernelspec": {
   "display_name": "python3",
   "language": "python",
   "name": "python3"
  }
 },
 "nbformat": 4,
 "nbformat_minor": 4
}
