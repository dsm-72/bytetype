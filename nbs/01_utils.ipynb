{
 "cells": [
  {
   "attachments": {},
   "cell_type": "markdown",
   "metadata": {},
   "source": [
    "# utils\n",
    "\n",
    "> Utils functions"
   ]
  },
  {
   "cell_type": "code",
   "execution_count": null,
   "metadata": {},
   "outputs": [],
   "source": [
    "#| default_exp utils"
   ]
  },
  {
   "cell_type": "code",
   "execution_count": null,
   "metadata": {},
   "outputs": [],
   "source": [
    "#| hide\n",
    "from nbdev.showdoc import *"
   ]
  },
  {
   "cell_type": "markdown",
   "metadata": {},
   "source": [
    "## Imports"
   ]
  },
  {
   "cell_type": "code",
   "execution_count": null,
   "metadata": {},
   "outputs": [],
   "source": [
    "#| export\n",
    "import os, math\n",
    "from dataclasses import KW_ONLY, dataclass, field\n",
    "from enum import Enum, StrEnum, IntEnum\n",
    "from typing import Union, List, Optional"
   ]
  },
  {
   "cell_type": "markdown",
   "metadata": {},
   "source": [
    "#### Constants"
   ]
  },
  {
   "cell_type": "code",
   "execution_count": null,
   "metadata": {},
   "outputs": [],
   "source": [
    "#| export\n",
    "from bytetype.units import (\n",
    "    BYTE, KILOBYTE, MEGABYTE, GIGABYTE, TERABYTE,\n",
    "    PETABYTE, EXABYTE, ZETTABYTE, YOTTABYTE\n",
    ")"
   ]
  },
  {
   "cell_type": "markdown",
   "metadata": {},
   "source": [
    "## Utils"
   ]
  },
  {
   "cell_type": "code",
   "execution_count": null,
   "metadata": {},
   "outputs": [],
   "source": [
    "#| export\n",
    "def bytes_idx(nbytes: float) -> int:\n",
    "    \"\"\"Calculate the index of the byte unit for a byte count.\n",
    "\n",
    "    Parameters\n",
    "    ----------\n",
    "    nbytes : float\n",
    "        The byte count.\n",
    "\n",
    "    Returns\n",
    "    -------\n",
    "    int\n",
    "        The index of the byte unit.\n",
    "    \"\"\"\n",
    "    idx = int(math.floor(math.log(nbytes, KILOBYTE)))\n",
    "    return idx"
   ]
  },
  {
   "cell_type": "code",
   "execution_count": null,
   "metadata": {},
   "outputs": [],
   "source": [
    "#| export\n",
    "def bytes_to_size(nbytes: float, decimals: Optional[int] = 2) -> float:\n",
    "    \"\"\"Calculate the size in appropriate byte unit for a byte count.\n",
    "\n",
    "    Parameters\n",
    "    ----------\n",
    "    nbytes : float\n",
    "        The byte count.\n",
    "    decimals : int, optional\n",
    "        The number of decimal places to round to (default is 2).\n",
    "\n",
    "    Returns\n",
    "    -------\n",
    "    float\n",
    "        The size in the appropriate byte unit.\n",
    "    \"\"\"\n",
    "    idx = bytes_idx(nbytes)\n",
    "    power = math.pow(KILOBYTE, idx)\n",
    "    size = round(nbytes / power, decimals)\n",
    "    return size"
   ]
  },
  {
   "cell_type": "code",
   "execution_count": null,
   "metadata": {},
   "outputs": [],
   "source": [
    "#| hide\n",
    "import nbdev; nbdev.nbdev_export()"
   ]
  }
 ],
 "metadata": {
  "kernelspec": {
   "display_name": "python3",
   "language": "python",
   "name": "python3"
  }
 },
 "nbformat": 4,
 "nbformat_minor": 4
}
