{
 "cells": [
  {
   "attachments": {},
   "cell_type": "markdown",
   "metadata": {},
   "source": [
    "# utils\n",
    "\n",
    "> Utils functions"
   ]
  },
  {
   "cell_type": "code",
   "execution_count": null,
   "metadata": {},
   "outputs": [],
   "source": [
    "#| default_exp utils"
   ]
  },
  {
   "cell_type": "code",
   "execution_count": null,
   "metadata": {},
   "outputs": [],
   "source": [
    "#| hide\n",
    "%load_ext autoreload\n",
    "%autoreload 2"
   ]
  },
  {
   "cell_type": "code",
   "execution_count": null,
   "metadata": {},
   "outputs": [],
   "source": [
    "#| hide\n",
    "from nbdev.showdoc import *"
   ]
  },
  {
   "cell_type": "markdown",
   "metadata": {},
   "source": [
    "## Imports"
   ]
  },
  {
   "cell_type": "code",
   "execution_count": null,
   "metadata": {},
   "outputs": [],
   "source": [
    "#| export\n",
    "import os, math\n",
    "from dataclasses import KW_ONLY, dataclass, field\n",
    "from enum import Enum, StrEnum, IntEnum\n",
    "from typing import Union, List, Optional, Iterable"
   ]
  },
  {
   "cell_type": "markdown",
   "metadata": {},
   "source": [
    "#### Constants"
   ]
  },
  {
   "cell_type": "code",
   "execution_count": null,
   "metadata": {},
   "outputs": [],
   "source": [
    "#| export\n",
    "from bytetype.units import (KILO, UNITS)\n",
    "from pstr.nchr.core import SPACE\n",
    "from pstr.fmts.byte import (getidx, getexp, getsuf, getnum, fmtbyte)"
   ]
  },
  {
   "cell_type": "markdown",
   "metadata": {},
   "source": [
    "## Utils"
   ]
  },
  {
   "cell_type": "code",
   "execution_count": null,
   "metadata": {},
   "outputs": [],
   "source": [
    "#| export\n",
    "def getidx(size: int = 1, base: int = KILO, units: Iterable = UNITS) -> int:\n",
    "    '''Gets the index of the unit for a given size and base'''\n",
    "    return getidx(size, base, units)\n",
    "\n",
    "def getexp(size: int = 1, base: int = KILO, units: Iterable = UNITS):\n",
    "    '''Gets the power of the unit for a given size and base'''\n",
    "    return getexp(size, base, units)\n",
    "\n",
    "def getsuf(size: int = 1, base: int = KILO, units: Iterable = UNITS):\n",
    "    '''Returns the unit suffix for a given size and base'''    \n",
    "    return getsuf(size, base, units)    \n",
    "\n",
    "def getnum(size: int = 1, base: int = KILO, precision: Optional[int] = 1, units: Iterable = UNITS):\n",
    "    '''Returns the unit suffix for a given size and base'''\n",
    "    return getnum(size, base, precision, units)\n",
    "\n",
    "def format(size: int = 1, base: int = KILO, sep: Optional[str] = SPACE, precision: Optional[int] = 1, units: Iterable = UNITS):    \n",
    "    return fmtbyte(size, base, sep, precision, units)"
   ]
  },
  {
   "cell_type": "code",
   "execution_count": null,
   "metadata": {},
   "outputs": [],
   "source": [
    "#| hide\n",
    "import nbdev; nbdev.nbdev_export()"
   ]
  }
 ],
 "metadata": {
  "kernelspec": {
   "display_name": "python3",
   "language": "python",
   "name": "python3"
  }
 },
 "nbformat": 4,
 "nbformat_minor": 4
}
