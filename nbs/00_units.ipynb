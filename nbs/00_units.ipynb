{
 "cells": [
  {
   "attachments": {},
   "cell_type": "markdown",
   "metadata": {},
   "source": [
    "# units\n",
    "\n",
    "> Byte units"
   ]
  },
  {
   "cell_type": "code",
   "execution_count": null,
   "metadata": {},
   "outputs": [],
   "source": [
    "#| default_exp units"
   ]
  },
  {
   "cell_type": "code",
   "execution_count": null,
   "metadata": {},
   "outputs": [],
   "source": [
    "#| hide\n",
    "from nbdev.showdoc import *"
   ]
  },
  {
   "cell_type": "markdown",
   "metadata": {},
   "source": [
    "## Constants"
   ]
  },
  {
   "cell_type": "code",
   "execution_count": null,
   "metadata": {},
   "outputs": [],
   "source": [
    "#| export\n",
    "BYTE     : int = 1\n",
    "KILOBYTE : int = BYTE * 1024\n",
    "MEGABYTE : int = KILOBYTE ** 2\n",
    "GIGABYTE : int = KILOBYTE ** 3\n",
    "TERABYTE : int = KILOBYTE ** 4\n",
    "PETABYTE : int = KILOBYTE ** 5\n",
    "EXABYTE  : int = KILOBYTE ** 6\n",
    "ZETTABYTE: int = KILOBYTE ** 7\n",
    "YOTTABYTE: int = KILOBYTE ** 8"
   ]
  },
  {
   "cell_type": "code",
   "execution_count": null,
   "metadata": {},
   "outputs": [],
   "source": [
    "#| hide\n",
    "import nbdev; nbdev.nbdev_export()"
   ]
  }
 ],
 "metadata": {
  "kernelspec": {
   "display_name": "python3",
   "language": "python",
   "name": "python3"
  }
 },
 "nbformat": 4,
 "nbformat_minor": 4
}
